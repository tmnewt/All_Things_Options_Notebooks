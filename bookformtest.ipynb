{
 "nbformat": 4,
 "nbformat_minor": 2,
 "metadata": {
  "language_info": {
   "name": "python",
   "codemirror_mode": {
    "name": "ipython",
    "version": 3
   },
   "version": "3.7.3-final"
  },
  "orig_nbformat": 2,
  "file_extension": ".py",
  "mimetype": "text/x-python",
  "name": "python",
  "npconvert_exporter": "python",
  "pygments_lexer": "ipython3",
  "version": 3,
  "kernelspec": {
   "name": "python37364bitbasecondad6945e01540e4d0086b53a68cfcf3e5f",
   "display_name": "Python 3.7.3 64-bit ('base': conda)"
  }
 },
 "cells": [
  {
   "cell_type": "markdown",
   "execution_count": null,
   "metadata": {},
   "outputs": [],
   "source": [
    "# Mock up of auto generated problem guides for single period binomial options (not finished)\n",
    "\n",
    "Needed to see if github can properly display the terminal outputs or if things get hairy."
   ]
  },
  {
   "cell_type": "code",
   "execution_count": 1,
   "metadata": {},
   "outputs": [],
   "source": [
    "from atop.teaching.singleperiod import SinglePeriodOption\n"
   ]
  },
  {
   "cell_type": "code",
   "execution_count": 2,
   "metadata": {},
   "outputs": [
    {
     "name": "stdout",
     "output_type": "stream",
     "text": ">>> SinglePeriodOption(Long, Call, 95.54, 107.89, 120.02, 90.25, 0.03, YBM)\n\n=======================================\n  SINGLE PERIOD BINOMIAL Long Call \n=======================================\n\nGiven:\n    A single period Long Call on the asset YBM whose current price is $95.54, with a \n    strike value of $107.89. We know for certain  YBM's price will either be $120.02, \n    or $90.25, next period. The current risk-free rate is 0.03\n\nWhat is the fair price for this Long Call?\n\n--------------------------------------\n  Answer: Long Call's value: $ 3.3715\n--------------------------------------\n\nIntermediate calculation answers:\n\nProblem's up factor: 1.2562\nProblem's down factor: 1.2562\nHedge Ratio (a.k.a units of underlying): 0.4075\nValue of bond position for hedging purposes: $ -35.557\nRisk-neutral probability for up state is 0.2875\nRisk-neutral probability for down state is 0.7125\n____________________________________________________________\n\n"
    }
   ],
   "source": [
    "example = SinglePeriodOption('Long','Call', 95.54, 107.89, 120.02, 90.25, 0.0342, 'YBM') \n",
    "example.solution()"
   ]
  },
  {
   "cell_type": "markdown",
   "execution_count": null,
   "metadata": {},
   "outputs": [],
   "source": [
    "### Can hide the problem and show only inputs and the solution"
   ]
  },
  {
   "cell_type": "code",
   "execution_count": 3,
   "metadata": {},
   "outputs": [
    {
     "name": "stdout",
     "output_type": "stream",
     "text": ">>> SinglePeriodOption(Long, Call, 95.54, 107.89, 120.02, 90.25, 0.03, YBM)\nLong Call value: $ 3.3715\n____________________________________________________________\n\n"
    }
   ],
   "source": [
    "example.solution(skip_problem_display=True, hide_additional=True)"
   ]
  },
  {
   "cell_type": "markdown",
   "execution_count": null,
   "metadata": {},
   "outputs": [],
   "source": [
    "## Can show the problem and price solution"
   ]
  },
  {
   "cell_type": "code",
   "execution_count": 4,
   "metadata": {},
   "outputs": [
    {
     "name": "stdout",
     "output_type": "stream",
     "text": ">>> SinglePeriodOption(Long, Call, 95.54, 107.89, 120.02, 90.25, 0.03, YBM)\n\n=======================================\n  SINGLE PERIOD BINOMIAL Long Call \n=======================================\n\nGiven:\n    A single period Long Call on the asset YBM whose current price is $95.54, with a \n    strike value of $107.89. We know for certain  YBM's price will either be $120.02, \n    or $90.25, next period. The current risk-free rate is 0.03\n\nWhat is the fair price for this Long Call?\n\n--------------------------------------\n  Answer: Long Call's value: $ 3.3715\n--------------------------------------\n____________________________________________________________\n\n"
    }
   ],
   "source": [
    "example.solution(hide_additional=True)"
   ]
  },
  {
   "cell_type": "markdown",
   "execution_count": null,
   "metadata": {},
   "outputs": [],
   "source": [
    "## Currently working on guide that walk users through solutions:\n",
    "Will be able to logically handle any problem thrown at it and give feedback (still got a lot of work to do on that)\n",
    "\n",
    "Here's how it's turning out so far. It's got an introduction. That's at least a start..."
   ]
  },
  {
   "cell_type": "code",
   "execution_count": 5,
   "metadata": {},
   "outputs": [
    {
     "name": "stdout",
     "output_type": "stream",
     "text": "\nRemember: all options are contractual agreements between two parties who are legally \nbound to perform as specified by their agreement. So think of the word `Option` as the same thing as\n`contract`. Further, these contracts are standardized with universal well defined and understood \nclauses and language which allows the agreements to be easily transferred to others (third-parties) \nwithout loss of contractual duty or value. Lastly, remember all options derive their value from the \nperformance of the underlying asset over the life of the contract.\n\nThe two parties to these contracts are a BUYER (a.k.a going LONG) of the contract who pays a price \n(a.k.a. a premium) and on the other side is the party WRITING the option (a.k.a the SELLER, a.k.a shorting) \nwho collects the premium the buyer paid. The contract is formed with the buyer purchasing certain \ncontractual rights for which the seller is contractually obligated to fullfill.\n\nAs you will see this contract describes a zero-sum transaction. The gains of one party are the losses of the \nother party. \n\n    \nLastly, this guide uses the terms `price` and `value` interchangablely. They are the same thing. \nAdditionally, you might see the program produce negative currency values. For instance,\nyou may see the calculated value for a short call be, say, -2.50. Which seems weird. \nHow can a price be negative? This is simply an accounting style chosen to give logical \nconsistency to the transactions. This is important for correctly describing replicating \nportfolios. It is centered around the perspective of the buyer who pays a physical x \namount of money, thus a positive cash outflow. Conversely the seller earns the premium x\nin the form of a negative outflow (which translates to a cash inflow).\nNone\n**************************************************\n  Start of Walkthrough for Long Call on YBM\n**************************************************\nRemember: going long simply means purchasing the option on YBM.\n\nBuying a Call gives you the RIGHT but NO OBLIGATION to buy the underlying\nasset (YBM) for the strike price of $107.89. \nYBM's value is currently trading at $95.54\n\nThese facts are important for 2 reasons for a long call contract:\nFirst, because this contract gives you the RIGHT to purchase YBM at $107.89, when\nYBM moves higher than the strike price of $107.89 then the value of this call \noption (that is, its price) increases. So, when YBM's price > $107.89 \nthen \nthis contract becomes more valuable! If contract matures with YBM's price > $107.89\nthen the value of the contract is the difference in YBM's price - strike.\n\nSecond, because this contract requires NO OBLIGATION on your part to buy YBM at $107.89, \nif YBM's price remains lower than the strike price of $107.89 then you \nare free to walk away. So, while YBM's price < $107.89 then this contract \nbecomes worth less and less. If \n    \nThese feature are what makes call options special.\nWhat this all means is there is potential for huge upside if YBM's is higher than\nFirst, find the payoffs in the up and down state:\nFor the up payoff: up_value - underlying\n        up payoff: 120.02\n\nUp state payoff is 12.13 and down state payoff is 0\nfinish later...\n"
    }
   ],
   "source": [
    "example.guide() # not finished"
   ]
  },
  {
   "cell_type": "code",
   "execution_count": null,
   "metadata": {},
   "outputs": [],
   "source": []
  }
 ]
}