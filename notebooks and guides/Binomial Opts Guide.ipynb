{
 "nbformat": 4,
 "nbformat_minor": 2,
 "metadata": {
  "language_info": {
   "name": "python",
   "codemirror_mode": {
    "name": "ipython",
    "version": 3
   },
   "version": "3.7.3-final"
  },
  "orig_nbformat": 2,
  "file_extension": ".py",
  "mimetype": "text/x-python",
  "name": "python",
  "npconvert_exporter": "python",
  "pygments_lexer": "ipython3",
  "version": 3,
  "kernelspec": {
   "name": "python37364bitbasecondad6945e01540e4d0086b53a68cfcf3e5f",
   "display_name": "Python 3.7.3 64-bit ('base': conda)"
  }
 },
 "cells": [
  {
   "cell_type": "markdown",
   "execution_count": null,
   "metadata": {},
   "outputs": [],
   "source": [
    "# Guide to using the class `BinomialOptions()`\n",
    "---\n",
    "\n",
    "Temporary Guide. To replace later with proper documentation.\n"
   ]
  },
  {
   "cell_type": "code",
   "execution_count": 2,
   "metadata": {},
   "outputs": [],
   "source": [
    "import os\n",
    "os.chdir('..')\n",
    "\n",
    "# from this package\n",
    "from atop.options.calloption import CallOption\n",
    "from atop.options.putoption import PutOption\n",
    "\n",
    "# one other thing:\n",
    "import math"
   ]
  },
  {
   "cell_type": "markdown",
   "execution_count": null,
   "metadata": {},
   "outputs": [],
   "source": [
    "The `BinomialOptions` class has 2 sub classes called `CallOption` and `PutOption`\n",
    "\n",
    "Consider a non-dividend-paying stock, currently trading at `$ 125` per share. In one year it will have either gone up by `$ 25` or gone down by `$ 25`. Given a strike price of `$ 135`, and a continously-compounded risk-free rate of 8%, what would the premium be for a European style call option written for this stock? \n",
    "\n",
    "The answer should be about 9.81"
   ]
  },
  {
   "cell_type": "code",
   "execution_count": 2,
   "metadata": {},
   "outputs": [
    {
     "name": "stdout",
     "output_type": "stream",
     "text": "===============================================================================\n  INFORMATION FOR A SINGLE PEIORD CALL OPTION USING BINMOMIAL PRICING METHOD\n===============================================================================\n\nThe calculations below are for a single period CALL option where the underlying value is 125, \nwith a strike price of 135, an up price of 150, a down price of 100, and a risk free rate of 8.329%.\nAll outputs are rounded to 2 decimal places.  \n\n--------------\nCalculations\n--------------\nCalculated Option Price: 9.81\nCalculated Hedge Ratio: 0.3\nCalculated present value of bond position: -27.69\nUp state payoff is 15 and down state payoff is 0\nCalculated risk neutral probability for up state is 0.71 and for down state risk neutral probability is 0.29\n_____________________________________________________________________________________________________________\n\n"
    }
   ],
   "source": [
    "cont_comp_int_rate = (math.e ** 0.08) -1\n",
    "\n",
    "call_example = CallOption(125, 135, 150, 100, cont_comp_int_rate)\n",
    "call_example.print_calc_values()"
   ]
  },
  {
   "cell_type": "markdown",
   "execution_count": null,
   "metadata": {},
   "outputs": [],
   "source": [
    "What would be the premium for a put using the same values as above?"
   ]
  },
  {
   "cell_type": "code",
   "execution_count": 3,
   "metadata": {},
   "outputs": [
    {
     "name": "stdout",
     "output_type": "stream",
     "text": "===============================================================================\n  INFORMATION FOR A SINGLE PEIORD PUT OPTION USING BINMOMIAL PRICING METHOD\n===============================================================================\n\nThe calculations below are for a single period PUT option where the underlying value is 125, \nwith a strike price of 135, an up price of 150, a down price of 100, and a risk free rate of 8.329%.\nAll outputs are rounded to 2 decimal places.  \n\n--------------\nCalculations\n--------------\nCalculated Option Price: 9.43\nCalculated Hedge Ratio: -0.7\nCalculated present value of bond position: 96.93\nUp state payoff is 0 and down state payoff is 35\nCalculated risk neutral probability for up state is 0.71 and for down state risk neutral probability is 0.29\n_____________________________________________________________________________________________________________\n\n"
    }
   ],
   "source": [
    "put_example = PutOption(125, 135, 150, 100, cont_comp_int_rate)\n",
    "put_example.print_calc_values()"
   ]
  }
 ]
}