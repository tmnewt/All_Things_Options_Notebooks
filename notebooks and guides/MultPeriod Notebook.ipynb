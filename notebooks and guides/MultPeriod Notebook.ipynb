{
 "nbformat": 4,
 "nbformat_minor": 2,
 "metadata": {
  "language_info": {
   "name": "python",
   "codemirror_mode": {
    "name": "ipython",
    "version": 3
   },
   "version": "3.7.3-final"
  },
  "orig_nbformat": 2,
  "file_extension": ".py",
  "mimetype": "text/x-python",
  "name": "python",
  "npconvert_exporter": "python",
  "pygments_lexer": "ipython3",
  "version": 3,
  "kernelspec": {
   "name": "python37364bitbasecondad6945e01540e4d0086b53a68cfcf3e5f",
   "display_name": "Python 3.7.3 64-bit ('base': conda)"
  }
 },
 "cells": [
  {
   "cell_type": "markdown",
   "execution_count": null,
   "metadata": {},
   "outputs": [],
   "source": [
    "# Demonstrating *\"chaining\"* the binomial option pricing method over an arbitrary timeframe to show how it can approximate Black-Scholes\n",
    "\n",
    "## Author: Tim Newton\n",
    "\n",
    "Consider the following scenario. \n",
    "\n",
    "![Example Scenario](img/two_period_example.png)\n",
    "\n",
    "## Question: What would be the fair price of European style call option that expires 1 year from now?\n",
    "\n",
    "I'm going to do things differently. The answer here is `$ 4.43`. But how did I get to this answer and how do I know that it is correct? Rather than just asking you to blindly trust me, I'll show you my thought process.\n",
    "\n",
    "## Start with a naive assumption.\n",
    "\n",
    "Consider answering this question using the single period binomial option pricing method? After all, we know the current stock price, the strike price, the payoffs in the up and down state, and risk-free rate. Is it safe to assume that we can focus on just the beginning and the end? Like this? \n",
    "\n",
    "![A naive assumption](img/naive_assumption_example.png)\n",
    "\n",
    "This seems like a promising start. Let's price it anyway using the binomial pricing code I built."
   ]
  },
  {
   "cell_type": "code",
   "execution_count": 1,
   "metadata": {},
   "outputs": [],
   "source": [
    "import os\n",
    "os.chdir('..')\n",
    "#print(os.getcwd())"
   ]
  },
  {
   "cell_type": "code",
   "execution_count": 2,
   "metadata": {},
   "outputs": [
    {
     "name": "stdout",
     "output_type": "stream",
     "text": "===============================================================================\n  INFORMATION FOR A SINGLE PEIORD CALL OPTION USING BINOMIAL PRICING METHOD\n===============================================================================\n\nThe calculations below are for a single period CALL option where the underlying value is 100, \nwith a strike price of 110, an up price of 121, a down price of 90.25, and a risk free rate of 10.0.\nAll outputs are rounded to 2 decimal places.  \n\n--------------\nCalculations\n--------------\nCalculated Option Price: $ 6.42\nCalculated Hedge Ratio: 0.36\nCalculated present value of bond position: $ -29.35\nUp state payoff is 11 and down state payoff is 0\nCalculated risk-neutral probability for up state is 0.64\nCalculated risk-neutral probability for down state is 0.36\n________________________________________________________________________________________________________\n\n"
    }
   ],
   "source": [
    "from atop.options.calloption import CallOption\n",
    "\n",
    "call_calc = CallOption(100, 110, 121, 90.25, .1)\n",
    "call_calc.print_calc_values()"
   ]
  },
  {
   "cell_type": "markdown",
   "execution_count": null,
   "metadata": {},
   "outputs": [],
   "source": [
    "Oh look an answer... it appears the price is ` $6.42`. But wait...\n",
    "\n",
    "# Looks can be deceiving; *this answer is wrong!*\n",
    "\n",
    "How do we know that it is wrong? Well, let's think about the assumptions we made here and see if they hold. The implicit assumptions here are first, there are only 2 payoff states and second, the option price doesn't evolve over time. \n",
    "\n",
    "## Is it safe to assume that there are only 2 payoff states?\n",
    "\n",
    "Let's look back to the question. Are there only 2 end payoff states? What does the tree look like again?\n",
    "\n",
    "![The tree](img/tree_example.png)\n",
    "\n",
    "If we look all the way to the right, we can see that there are actually 3 payoff states, not 2. Since this assumption failed then we know that the answer must be off. We could stop here if we wanted satisfied that `$ 6.42` isn't the correct price. But let's analyze the second assumption as it will become useful in a bit.\n",
    "\n",
    "## Is it safe to assume that the option value doesn't evolve over time?\n",
    "\n",
    "That is to say, suppose we paid some price, P for a call option and then the underlying price crashes into the ground such that it is so far low below the strike price that there is zero chance of recovering. Is that option still worth what we paid? NO! I guarentee that it's worthless. In fact if you find someone who is willing to pay anything near what you bought the call option for, please let me know, I've got a bridge I want to sell them. \n",
    "\n",
    "Conversely, what if the underlying price skyrockets well above the strike price and we go to sell our option? Is it still worth what we paid for? NO! At the very least, it should be worth the difference in the current underlying price and the strike price. This is especially true for American style call options and European call options that are close to expiration. If you sold it for anything less, then you are essentially giving free money away. \n",
    "\n",
    "Rephrased, suppose that we messed up and bought a call option at `$ 6.42` on this underlying asset (seriously, I've got a bridge for sale). Does this mean that we can never profit from this transaction? Well, our mistake doesn't rule out the possibility of profit. Which is good news. But it doesn't guarantee that we will make a profit (or fully recover the price we paid.)\\*\n",
    "\n",
    "\n",
    "\\* Side question. If possible, at what point will the option price be higher than `$ 6.42`? This question will be answered later\n",
    "\n",
    "# Have we hit a dead end?\n",
    "\n",
    "Surprisingly, no. We are heading in the right direction. There is an unstated assumption we got correct; using the single period binomial option pricing method. Think of the method first and foremost as a tool. Every tool has a time and place. \"A screwdriver isn't useful as a hammer.\" Rather than retool our method, let's change where and when we use it. Before we do that though I want to draw your attention to something and then we will get back to pricing this option.\n",
    "\n",
    "If you haven't noticed it yet, then let me point it out; the tree appears to be several different options *chained* together. Let's separate out these options. \n",
    "\n",
    "### Let's call this the 'up' option.\n",
    "(Because in the prior period the underlying asset price went up)\n",
    "\n",
    "![The 'Up' Option](img/up_option_example.png)\n",
    "\n",
    "### Let's call this the 'down' option.\n",
    "\n",
    "![The 'Down' Option](img/down_option_example.png)\n",
    "\n",
    "\n",
    "### Lastly let's call this Today's option.\n",
    "\n",
    "![The 'Starting' Option](img/start_option_example.png)\n",
    "\n",
    "When we break out the original tree into distinct single period options, suddenly the tasks look a lot more solvable. Let's try using the single period binomial option pricing now and see where that gets us.\n",
    "\n",
    "# Pricing the 'up' option:\n",
    "I'll save you the trouble of scrolling up and hunting for the values we need for this calculation. Here's what we have:\n",
    "\n",
    "* Stock Price: `$ 110`\n",
    "* Strike Price: `$ 110` (that is, currently the underlying price is the same as the strike price).\n",
    "* up value is `$ 121`\n",
    "* down value is `$ 104.50`\n",
    "* and the risk-free rate for the period is `0.05`\n",
    "\n",
    "In this single period binomial call option the up state is positive, `121 - 110 = 11,` and the down state payoff is negative (`104.50 - 110 =  -5.50`) but this is a call option so we are not obligated to exercise the option, which means the down state payoff is `0`.\n",
    "\n",
    "Using the `CallOption()` class I wrote, we find the following:"
   ]
  },
  {
   "cell_type": "code",
   "execution_count": 3,
   "metadata": {},
   "outputs": [
    {
     "name": "stdout",
     "output_type": "stream",
     "text": "===============================================================================\n  INFORMATION FOR A SINGLE PEIORD CALL OPTION USING BINOMIAL PRICING METHOD\n===============================================================================\n\nThe calculations below are for a single period CALL option where the underlying value is 110, \nwith a strike price of 110, an up price of 121, a down price of 104.5, and a risk free rate of 5.0.\nAll outputs are rounded to 2 decimal places.  \n\n--------------\nCalculations\n--------------\nCalculated Option Price: $ 6.98\nCalculated Hedge Ratio: 0.67\nCalculated present value of bond position: $ -66.35\nUp state payoff is 11 and down state payoff is 0\nCalculated risk-neutral probability for up state is 0.67\nCalculated risk-neutral probability for down state is 0.33\n________________________________________________________________________________________________________\n\n"
    }
   ],
   "source": [
    "up_opt = CallOption(110, 110, 121, 104.50, 0.05)\n",
    "up_opt.print_calc_values()"
   ]
  },
  {
   "cell_type": "markdown",
   "execution_count": null,
   "metadata": {},
   "outputs": [],
   "source": [
    "From the terminal printout we can see that the fair price for the call option at t1 when in the up state is `$ 6.98`. In simple terms, we know that the price of the option will be `$ 6.98` in `6 months` when the underlying price increases to `$ 110`. \n",
    "\n",
    "# Pricing the 'down' option:\n",
    "\n",
    "* Stock Price: `$ 95`\n",
    "* Strike Price: `$ 110` (that is, currently the underlying price is below the strike price).\n",
    "* up value is `$ 104.50`\n",
    "* down value is `$ 90.25`\n",
    "* and the risk-free rate for the period is `0.05`\n",
    "\n",
    "Without even running my code I know that the call option's value is worthless as it is already below the strike price and will never rise above the strike price. Don't believe me? Observe:"
   ]
  },
  {
   "cell_type": "code",
   "execution_count": 4,
   "metadata": {},
   "outputs": [
    {
     "name": "stdout",
     "output_type": "stream",
     "text": "===============================================================================\n  INFORMATION FOR A SINGLE PEIORD CALL OPTION USING BINOMIAL PRICING METHOD\n===============================================================================\n\nThe calculations below are for a single period CALL option where the underlying value is 95, \nwith a strike price of 110, an up price of 104.5, a down price of 90.25, and a risk free rate of 5.0.\nAll outputs are rounded to 2 decimal places.  \n\n--------------\nCalculations\n--------------\nCalculated Option Price: $ 0.0\nCalculated Hedge Ratio: 0.0\nCalculated present value of bond position: $ 0.0\nUp state payoff is 0 and down state payoff is 0\nCalculated risk-neutral probability for up state is 0.67\nCalculated risk-neutral probability for down state is 0.33\n________________________________________________________________________________________________________\n\n"
    }
   ],
   "source": [
    "down_opt = CallOption(95, 110, 104.50, 90.25, 0.05)\n",
    "down_opt.print_calc_values()"
   ]
  },
  {
   "cell_type": "markdown",
   "execution_count": null,
   "metadata": {},
   "outputs": [],
   "source": [
    "From the terminal printout we can see that the value of the call option in the down state is... drum roll... `0.00`. \n",
    "\n",
    "Great looks like we've got this down. Now we just do the same thing to find today's price, correct?\n",
    "\n",
    "Nope!\n",
    "\n",
    "# Pricing the option today: the twist\n",
    "At this point its common for learners to confuse what to do next. For the past 2 steps we've been calculating these *smaller* single period binomial options. So we do the same for this last one, right?... Well, let's see what we get out of it when we calculate the option following the same approach from before... ...if you haven't seen the issue yet, let me paint it to you using the following picture. \n",
    "\n",
    "![Big Issue](img/big_issue_example.png)\n",
    "\n",
    "The value of this simple call option will be zero. The underlying price will never rise to above the strike price of `$ 110`. No one would exercise this call option. Therefor, under this analysis, the value of the option is worthless. \n",
    "\n",
    "But at the start of this document I stated that the answer is `$ 4.43`. How do we reconcile this discrepancy? The approach we've been using generated a price of zero, whereas I've been saying the actual price for this example is `4.43`. Again we are presented with the question, \"how do we know when the answer is wrong?\" When we critically think through the most recent step we will see that we made a number of logical errors.\n",
    "\n",
    "### What we did wrong:\n",
    "\n",
    "We assumed that the tool used before could also work here. We saw that the past 2 steps each followed the exact same approach pattern. It's not a stretch to assume this pattern continues forward. However, consider that there is no logical reason for the persistence of this pattern. It might very well be that by chance the first 2 steps followed the same approach. (This will give rise to an important corollary later). In short, we've fallen victim to a \"monkey see, monkey do\" mindset. We are better than that. \n",
    "\n",
    "Remember that we found the fair price for this call option 6 months from today when the underlying asset's price rises to `$ 110` and similarly we found the fair price when the underlying asset's price falls to `$ 95`. The call option's prices are `$ 6.98` and `$ 0.00` respectively. Are we to just ignore these values? No! But our approach took one look at those calculations and went \"oh... *guess we don't need these!*\" and threw them out. But these are the values of the call option if we were to sell it in 6 months! They are the payoffs! The work from earlier demonstrated that the option has some intrinsic value when the underlying price rises to `$ 110`. This value in 6 months must carry in part back to today. Else, we could pay nothing for the option today, and pocket `$ 6.98` in 6 months! What a great deal! We would make money from nothing! This illogical situation suggests that 1). the call option today must be worth some positive value, and 2) the call option's value is somewhere between `$ 0.00` and `$ 6.98`. By this logic we must reject that the call option has zero value today!\n",
    "\n",
    "Let's put some numbers to it for example. Suppose we mispriced our calculation and bought the option today at exactly `$ 6.00`. There is still a chance that we can profit from this mistake! If the underlying price rises to `$ 110` in 6 months which would push the fair market price of the option to `$ 6.98`. We could sell our option at that `6.98` and walk away with `$ 0.98` in profit. (which is the answer to that side question from earlier). Conversely if the underlying price instead falls to `$ 95` we are under no obligation to exercise our option, in which case our profit is zero. It's these payoff states we care about. Recall that these are a vital component in the calculating the fair price of an option.\n",
    "\n",
    "In the single period binomial option module the payoffs are normally calculated internally but we can override those payoff calculations by passing additional arguments. (Dev note: I'm contemplating moving this feature to its own module in the future, I've opted to bundle this functionality together for now.) The following demonstrates this and produces the answer we've been looking for. "
   ]
  },
  {
   "cell_type": "code",
   "execution_count": 5,
   "metadata": {},
   "outputs": [
    {
     "name": "stdout",
     "output_type": "stream",
     "text": "===============================================================================\n  INFORMATION FOR A SINGLE PEIORD CALL OPTION USING BINOMIAL PRICING METHOD\n===============================================================================\n\nThe calculations below are for a single period CALL option where the underlying value is 100, \nwith a strike price of 110, an up price of 110, a down price of 95, and a risk free rate of 5.0.\nAll outputs are rounded to 2 decimal places.  \nUSER HAS OPTED TO OVERRIDE PAYOFF VALUES! BE AWARE THIS WILL AFFECT CALCULATIONS!\n\n--------------\nCalculations\n--------------\nCalculated Option Price: $ 4.43\nCalculated Hedge Ratio: 0.47\nCalculated present value of bond position: $ -42.1\nUp state payoff is 6.98 and down state payoff is 0\nCalculated risk-neutral probability for up state is 0.67\nCalculated risk-neutral probability for down state is 0.33\n________________________________________________________________________________________________________\n\n"
    }
   ],
   "source": [
    "todays_option = CallOption(100, 110, 110, 95, 0.05, 6.98, 0)\n",
    "todays_option.print_calc_values()"
   ]
  },
  {
   "cell_type": "markdown",
   "execution_count": null,
   "metadata": {},
   "outputs": [],
   "source": [
    "Finally, there is the answer.\n",
    "\n",
    "---\n",
    "\n",
    "\n",
    "# Chaining it all together:\n",
    "The code below is everything above condensed to a few lines."
   ]
  },
  {
   "cell_type": "code",
   "execution_count": 6,
   "metadata": {},
   "outputs": [
    {
     "name": "stdout",
     "output_type": "stream",
     "text": "===============================================================================\n  INFORMATION FOR A SINGLE PEIORD CALL OPTION USING BINOMIAL PRICING METHOD\n===============================================================================\n\nThe calculations below are for a single period CALL option where the underlying value is 100, \nwith a strike price of 110, an up price of 110, a down price of 95, and a risk free rate of 5.0.\nAll outputs are rounded to 2 decimal places.  \nUSER HAS OPTED TO OVERRIDE PAYOFF VALUES! BE AWARE THIS WILL AFFECT CALCULATIONS!\n\n--------------\nCalculations\n--------------\nCalculated Option Price: $ 4.43\nCalculated Hedge Ratio: 0.47\nCalculated present value of bond position: $ -42.13\nUp state payoff is 6.98 and down state payoff is 0\nCalculated risk-neutral probability for up state is 0.67\nCalculated risk-neutral probability for down state is 0.33\n________________________________________________________________________________________________________\n\n"
    }
   ],
   "source": [
    "up_call = CallOption(110, 110, 121, 104.50, 0.05)\n",
    "down_call = CallOption(95, 110, 104.50, 90.25, 0.05)\n",
    "today_call = CallOption(100, 110, 110, 95, 0.05, up_call.option_price, down_call.option_price)\n",
    "today_call.print_calc_values()"
   ]
  },
  {
   "cell_type": "markdown",
   "execution_count": null,
   "metadata": {},
   "outputs": [],
   "source": [
    "# We can also do this for put options:\n",
    "Using the exact same scenario as above calculate the value of a European Put Option:"
   ]
  },
  {
   "cell_type": "code",
   "execution_count": 7,
   "metadata": {},
   "outputs": [
    {
     "name": "stdout",
     "output_type": "stream",
     "text": "===============================================================================\n  INFORMATION FOR A SINGLE PEIORD PUT OPTION USING BINOMIAL PRICING METHOD\n===============================================================================\n\nThe calculations below are for a single period PUT option where the underlying value is 100, \nwith a strike price of 110, an up price of 110, a down price of 95, and a risk free rate of 5.0.\nAll outputs are rounded to 2 decimal places.  \nUSER HAS OPTED TO OVERRIDE PAYOFF VALUES! BE AWARE THIS WILL AFFECT CALCULATIONS!\n\n--------------\nCalculations\n--------------\nCalculated Option Price: $ 4.21\nCalculated Hedge Ratio: -0.53\nCalculated present value of bond position: $ 57.65\nUp state payoff is 1.75 and down state payoff is 9.76\nCalculated risk-neutral probability for up state is 0.67\nCalculated risk-neutral probability for down state is 0.33\n________________________________________________________________________________________________________\n\n"
    }
   ],
   "source": [
    "from atop.options.putoption import PutOption\n",
    "\n",
    "up_put = PutOption(110, 110, 121, 104.50, 0.05)\n",
    "down_put = PutOption(95, 110, 104.50, 90.25, 0.05)\n",
    "today_put = PutOption(100, 110, 110, 95, 0.05,\n",
    "                        up_put.option_price,\n",
    "                        down_put.option_price)\n",
    "\n",
    "today_put.print_calc_values()"
   ]
  },
  {
   "cell_type": "markdown",
   "execution_count": null,
   "metadata": {},
   "outputs": [],
   "source": [
    "The program says that the put option price is `4.21`\n",
    "\n",
    "## Don't take my word for it. Check answer using Put-Call Parity Rule:\n",
    "\n",
    "Does the following equality hold?\n",
    "\n",
    "$stock + put = PV(strike) + call$\n",
    "\n",
    "Rearrange:\n",
    "\n",
    " \n",
    "$stock + put - PV(strike) - call = 0$\n",
    "\n",
    "\n",
    "To check, what's the present value of the strike price on this option that expires 1 year from today?\n"
   ]
  },
  {
   "cell_type": "code",
   "execution_count": 8,
   "metadata": {},
   "outputs": [
    {
     "name": "stdout",
     "output_type": "stream",
     "text": "99.77324263038548\n"
    }
   ],
   "source": [
    "pv_strike = 110/(1.05 ** 2)\n",
    "print(pv_strike)"
   ]
  },
  {
   "cell_type": "markdown",
   "execution_count": null,
   "metadata": {},
   "outputs": [],
   "source": [
    "Plug that into the following:  (use exact calculated values)"
   ]
  },
  {
   "cell_type": "code",
   "execution_count": 9,
   "metadata": {},
   "outputs": [
    {
     "name": "stdout",
     "output_type": "stream",
     "text": "0.0\n"
    }
   ],
   "source": [
    "# the following should equal zero.\n",
    "answer = 100 + today_put.option_price - pv_strike - today_call.option_price\n",
    "print(answer)"
   ]
  },
  {
   "cell_type": "markdown",
   "execution_count": null,
   "metadata": {},
   "outputs": [],
   "source": [
    "If both sides cancel out it means means the put-call parity holds. Both prices are correct. \n",
    "\n",
    "---\n",
    "\n",
    "# Another multi-period example but with volatility:\n",
    "\n",
    "*From Chapter 18 of \"An Introduction to derivative Securities, Financial Markets, and Risk Management\" by Robert Jarrow and Arkadev Chatterjea*\n",
    "\n",
    "Given the following for a European Call:\n",
    "* The current underlying asset's price is `$ 100`\n",
    "* The strike price is `$ 110` and matures after 1 year\n",
    "* The volatility for the underlying price is `0.142470`\n",
    "* The underlying asset's price evolves over 2 distinct periods of equal length (that is 6 month periods).\n",
    "* There is a continously compounded risk-free rate of `0.05` per year. \n",
    "\n",
    "The answer will be `$4.11` for the call price.\n",
    "\n",
    "# Walkthrough:\n",
    "\n",
    "#### NOTE 1:\n",
    "\n",
    "I've introduced continuously compounded rate of `0.05` per year. This is a significant change from the problems above which describe their risk-free rate per period. This change might seem annoying at first but working with continuously compounding makes things easier, especially when dealing with smaller time periods. For an arbitrary length of time *T*, described by *n* distinct periods the following holds:\n",
    "\n",
    "## $$e^r = (e^{r\\Delta t})^n$$\n",
    "\n",
    "* Where *r* is the continuously compounded risk-free rate \n",
    "* Where $\\Delta t$ is the length of period as a fraction of a year such that $\\Delta t = \\frac{1}{\\#periods/year}$. (For example, if the underlying price can evolve over 2 periods in 1 year then $\\Delta t = \\frac{1}{2}$, if 3 periods then $\\Delta t = \\frac{1}{3}$, etc.) \n",
    "\n",
    "Notice that make a distinction between the number of periods (which I noted as #periods) and the number of periods which describes the time until maturity, *n*. This is because its entirely possible for $n > periods/year$. Such is the case when the maturity length is greater than 1 year. The main point is to make sure your rates of change make sense. \n",
    "\n",
    "Lastly, the concept of  $\\Delta t$ is important as it will be used in calculating up and down factors.\n",
    "\n",
    "#### NOTE 2:\n",
    "\n",
    "Up until now I've avoided discussing problems that involve volatility. Instead I just skipped to saying that the up and down factors were 'known'. Where did those values come from? Depends, where do you want them to come from? Well, considering these are discrete time problems, they could have come from either Jarrow-Rudd's approach or Cox-Ross-Rubinstein's approach to calculating up and down factors. We will assume that these approaches incorporate risk-neutral probabilities. (I will not be introducing other approaches). By the way, these approaches tend to become more accurate when there are many distinct periods in the multi-period model.\n",
    "\n",
    "### Jarrow-Rudd approach:\n",
    "\n",
    "\n",
    "# $$ upfactor = e^{r\\Delta t-\\frac{\\sigma^2}{2}\\Delta t+\\sigma\\sqrt{\\Delta t}} $$ \n",
    "# $$ downfactor = e^{r\\Delta t-\\frac{\\sigma^2}{2}\\Delta t-\\sigma\\sqrt{\\Delta t}} $$\n",
    "\n",
    "* Where $\\sigma$ is the volatility (standard deviation) and $\\sigma^2$ is the variance of the continuously compounding return.\n",
    "\n",
    "### Cox-Ross-Rubinstein approach\n",
    "\n",
    "# $$ upfactor = e^{\\sigma\\sqrt{\\Delta t}}$$\n",
    "# $$ downfactor = \\frac{1}{upfactor}$$\n",
    "\n",
    "So, that's where we get our up and down factors from. Regardless of whichever approach you use when in comes to calculating the risk-neutral probabilites you can take the same approach for calculating *p*\n",
    "\n",
    "$$ p = riskneutral_{up} = \\frac{e^{r\\Delta t} - downfactor }{upfactor - downfactor}$$\n",
    "\n",
    "$$ riskneutral_{down} = 1-p $$\n",
    "\n",
    "Below is the function for Jarrow-Rudd and the Cox-Ross-Rubinstein approach:"
   ]
  },
  {
   "cell_type": "code",
   "execution_count": 10,
   "metadata": {},
   "outputs": [],
   "source": [
    "from math import exp, sqrt\n",
    "\n",
    "# Jarrow-Rudd approach to calculating up and down factors\n",
    "def updn_jr(annual_rf_rate, periods_in_year, volatility):\n",
    "    dt = 1/periods_in_year\n",
    "    up_factor = exp(annual_rf_rate*dt - ((volatility**2) / 2) * dt + volatility*sqrt(dt))\n",
    "    dn_factor = exp(annual_rf_rate*dt - ((volatility**2) / 2) * dt - volatility*sqrt(dt))\n",
    "\n",
    "    # The risk-neutral probabilites\n",
    "    up_neutral = (exp(annual_rf_rate * dt) - dn_factor) / (up_factor - dn_factor)\n",
    "    dn_neutral = 1-up_neutral\n",
    "    \n",
    "    return (up_factor, dn_factor, up_neutral, dn_neutral)\n",
    "\n",
    "# Cox-Ross-Rubinstein appraoch to calculating up and down factors\n",
    "def updn_crr(annual_rf_rate, periods_in_year, volatility):\n",
    "    dt = 1/periods_in_year\n",
    "    up_factor = exp(volatility*sqrt(dt))\n",
    "    dn_factor = 1/up_factor\n",
    "\n",
    "    # The risk-neutral probabilites\n",
    "    up_neutral = (exp(annual_rf_rate * dt) - dn_factor) / (up_factor - dn_factor)\n",
    "    dn_neutral = 1-up_neutral\n",
    "\n",
    "    return (up_factor, dn_factor, up_neutral, dn_neutral)"
   ]
  },
  {
   "cell_type": "code",
   "execution_count": 11,
   "metadata": {},
   "outputs": [
    {
     "name": "stdout",
     "output_type": "stream",
     "text": "Using the Jarrow-Rudd approach:\nUp factor : 1.128249230720684\nDn factor : 0.922363456791652\nUp risk-neutral : 0.500042629308929\nDn risk-neutral : 0.49995737069107105\n\nUsing the Cox-Ross-Rubinstein approach:\nUp factor : 1.1059907096561672\nDn factor : 0.9041667269618224\nUp risk-neutral : 0.6002675794287607\nDn risk-neutral : 0.39973242057123926\n"
    }
   ],
   "source": [
    "example_jarrow = updn_jr(0.05, 2, 0.14247)\n",
    "print('Using the Jarrow-Rudd approach:')\n",
    "print('Up factor : {}'.format(example_jarrow[0]))\n",
    "print('Dn factor : {}'.format(example_jarrow[1]))\n",
    "print('Up risk-neutral : {}'.format(example_jarrow[2]))\n",
    "print('Dn risk-neutral : {}'.format(example_jarrow[3]))\n",
    "print()\n",
    "\n",
    "example_cox = updn_crr(0.05, 2, 0.14247)\n",
    "print('Using the Cox-Ross-Rubinstein approach:')\n",
    "print('Up factor : {}'.format(example_cox[0]))\n",
    "print('Dn factor : {}'.format(example_cox[1]))\n",
    "print('Up risk-neutral : {}'.format(example_cox[2]))\n",
    "print('Dn risk-neutral : {}'.format(example_cox[3]))"
   ]
  },
  {
   "cell_type": "markdown",
   "execution_count": null,
   "metadata": {},
   "outputs": [],
   "source": [
    "### Anyway, now that we've covered where the up and down factors come from, we can return to solving the problem presented above. \n",
    "\n",
    "From here on we will be using the Jarrow-Rudd approach. So, our first step is listing out the prices that the underlying asset could evolve to over the next 2 periods. This can be done using some half-baked code.\n",
    "\n"
   ]
  },
  {
   "cell_type": "code",
   "execution_count": 12,
   "metadata": {},
   "outputs": [
    {
     "name": "stdout",
     "output_type": "stream",
     "text": "===============================================================================\n  INFORMATION FOR A SINGLE PEIORD CALL OPTION USING BINOMIAL PRICING METHOD\n===============================================================================\n\nThe calculations below are for a single period CALL option where the underlying value is 100, \nwith a strike price of 110, an up price of 112.82, a down price of 92.24, and a risk free rate of 2.532.\nAll outputs are rounded to 2 decimal places.  \nUSER HAS OPTED TO OVERRIDE PAYOFF VALUES! BE AWARE THIS WILL AFFECT CALCULATIONS!\n\n--------------\nCalculations\n--------------\nCalculated Option Price: $ 4.11\nCalculated Hedge Ratio: 0.41\nCalculated present value of bond position: $ -36.85\nUp state payoff is 8.43 and down state payoff is 0\nCalculated risk-neutral probability for up state is 0.5\nCalculated risk-neutral probability for down state is 0.5\n________________________________________________________________________________________________________\n\n"
    }
   ],
   "source": [
    "# set up the problem\n",
    "underlying = 100\n",
    "up_factor = example_jarrow[0]\n",
    "dn_factor = example_jarrow[1]\n",
    "strike = 110\n",
    "rf = exp(0.05 * .5)-1  # rf per period where 0.5 is 1/2 of the year\n",
    "\n",
    "# need to calculate value in up state \n",
    "# & the value in the up up state \n",
    "# & the value in the up down state\n",
    "# & the value in the down down state\n",
    "# & the value in the down state...\n",
    "\n",
    "# it's a good thing there are only 2 periods, else this would get ugly...\n",
    "up_state = underlying * up_factor\n",
    "upup_state = underlying * up_factor * up_factor\n",
    "updn_state = underlying * up_factor * dn_factor # this is exactly why everything should be in a class...\n",
    "dndn_state = underlying * dn_factor * dn_factor\n",
    "dn_state = underlying * dn_factor\n",
    "\n",
    "up_call = CallOption(up_state, strike, upup_state, updn_state, rf)\n",
    "down_call = CallOption(dn_state, strike, updn_state, dndn_state, rf)\n",
    "today_call = CallOption(underlying, strike, up_state, dn_state, rf, up_call.option_price, down_call.option_price)\n",
    "today_call.print_calc_values()"
   ]
  },
  {
   "cell_type": "markdown",
   "execution_count": null,
   "metadata": {},
   "outputs": [],
   "source": [
    "---\n",
    "# Generalizing the approach\n",
    "\n",
    "There is no limit to the number of periods we can have to describe the evolution of the underlying price and thus how accurate we can be with our calculation. But we must keep in mind a few things:\n",
    "* Today's price is a reflection of the next time period's payoffs, and those payoffs are a reflection of the next time period's payoff, etc. \n",
    "* How the problem describes volatility. Is the volatility described in annual terms or in terms of periods.\n",
    "* How the problem describes the risk-free rate. \n",
    "\n",
    "Consider the following general example with 4 distinct time periods:\n",
    "\n",
    "![general binomial tree](img/four_period_general.png)\n",
    "\n",
    "Between each time period, the underlying price can move up or down by some factor, u or d, respectively. For instance, suppose in each time period the volatility of the underlying can be described as either increasing by 5% or decreasing by 5%. In the calculation, the up factor would be `u = (1 + 0.05) = 1.05` and the down factor is `d = (1 + -0.05) = 0.95`. In the case of only increases for t4, the stock price has increase by 4 factors of u. Stated differently, the highest possible underlying price is u\\*u\\*u\\*u\\*S = (u^4) \\* S.  In the case of 2 ups and 2 downs is u\\*u\\*d\\*d\\*S = (u^2) \\* (d^2) \\* S. \n",
    "\n",
    "### You can imagine any possible binomial tree with n-periods. \n",
    "\n",
    "But you may have noticed that it is rather troublesome to program out every binomial node. Surely there is a short cut? There is, which I will discuss soon."
   ]
  },
  {
   "cell_type": "code",
   "execution_count": null,
   "metadata": {},
   "outputs": [],
   "source": []
  }
 ]
}